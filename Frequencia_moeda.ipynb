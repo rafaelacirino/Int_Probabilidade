{
  "nbformat": 4,
  "nbformat_minor": 0,
  "metadata": {
    "colab": {
      "name": "Frequencia_moeda.ipynb",
      "provenance": [],
      "authorship_tag": "ABX9TyMXX63xW+Hpn1pV5J2rJERJ",
      "include_colab_link": true
    },
    "kernelspec": {
      "name": "python3",
      "display_name": "Python 3"
    }
  },
  "cells": [
    {
      "cell_type": "markdown",
      "metadata": {
        "id": "view-in-github",
        "colab_type": "text"
      },
      "source": [
        "<a href=\"https://colab.research.google.com/github/rafaelacirino/Int_Probabilidade/blob/main/Frequencia_moeda.ipynb\" target=\"_parent\"><img src=\"https://colab.research.google.com/assets/colab-badge.svg\" alt=\"Open In Colab\"/></a>"
      ]
    },
    {
      "cell_type": "markdown",
      "metadata": {
        "id": "og73XEA-5XkY"
      },
      "source": [
        "# Frequência de Jogar uma Moeda e Sair CARA\n",
        "\n",
        "Código em Python para determinar a frequência de se jogar uma moeda e sair cara"
      ]
    },
    {
      "cell_type": "code",
      "metadata": {
        "id": "TOwTsZea5zez"
      },
      "source": [
        "#importar a biblioteca numpy\n",
        "import numpy as np"
      ],
      "execution_count": 1,
      "outputs": []
    },
    {
      "cell_type": "code",
      "metadata": {
        "id": "TLv5nAgO56XN"
      },
      "source": [
        "#probabilidade de sair cara\n",
        "p = 0.6"
      ],
      "execution_count": 2,
      "outputs": []
    },
    {
      "cell_type": "code",
      "metadata": {
        "id": "XQ8vUeSo6OsO"
      },
      "source": [
        "#número de experimentos\n",
        "nsim = 10"
      ],
      "execution_count": 3,
      "outputs": []
    },
    {
      "cell_type": "code",
      "metadata": {
        "id": "z9kr_44L6Sjb"
      },
      "source": [
        "#número de caras obtidas\n",
        "nhead = 0"
      ],
      "execution_count": 4,
      "outputs": []
    },
    {
      "cell_type": "code",
      "metadata": {
        "id": "hKluaB1i6Y3e"
      },
      "source": [
        "#lista para armazenar as saídas\n",
        "saida = []"
      ],
      "execution_count": 5,
      "outputs": []
    },
    {
      "cell_type": "code",
      "metadata": {
        "colab": {
          "base_uri": "https://localhost:8080/"
        },
        "id": "hlaxzRBj6gAg",
        "outputId": "a8f8cd6a-9599-4122-9dc4-3fc9523153b0"
      },
      "source": [
        "for i in range(0, nsim):\n",
        "  if(np.random.uniform() < p):\n",
        "    nhead += 1\n",
        "    saida.append(1)\n",
        "  else:\n",
        "    saida.append(0)\n",
        "print(\"Saída: \", saida)\n",
        "print(\"Frequência de caras: \", nhead/nsim)"
      ],
      "execution_count": 6,
      "outputs": [
        {
          "output_type": "stream",
          "text": [
            "Saída:  [1, 0, 0, 0, 1, 1, 1, 1, 1, 1]\n",
            "Frequência de caras:  0.7\n"
          ],
          "name": "stdout"
        }
      ]
    }
  ]
}